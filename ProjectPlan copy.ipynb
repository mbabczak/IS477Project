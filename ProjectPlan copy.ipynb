{
 "cells": [
  {
   "cell_type": "markdown",
   "id": "73dab610",
   "metadata": {},
   "source": [
    "# Project Plan - Molly Babczak"
   ]
  },
  {
   "cell_type": "markdown",
   "id": "39d2cd00",
   "metadata": {},
   "source": [
    "## Overview: Describe the overall goal of your project"
   ]
  },
  {
   "cell_type": "markdown",
   "id": "658d43a3",
   "metadata": {},
   "source": [
    "As an avid movie myself, I wanted to dive into IMDb's movie rating dataset. Using this dataset, I want to explore and discover trends in ratings of the movies. Using this data, I will not only personally have new movies to watch that are highly rated, but this information can be shared and a great source for other people to use when they are in search of a good movie to watch. "
   ]
  },
  {
   "cell_type": "markdown",
   "id": "9ad32072",
   "metadata": {},
   "source": [
    "## Research Question(s): What is/are the question(s) you intend to address?"
   ]
  },
  {
   "cell_type": "markdown",
   "id": "27312e64",
   "metadata": {},
   "source": [
    "- How do different features (genre, release year, etc) influence a movies rating?\n",
    "- Can we accuaratley predict the average movie rating based on looking a previous trends?"
   ]
  },
  {
   "cell_type": "markdown",
   "id": "44b4f9f2",
   "metadata": {},
   "source": [
    "## Team: Clearly define team members roles and responibilites"
   ]
  },
  {
   "cell_type": "markdown",
   "id": "dcbfacd6",
   "metadata": {},
   "source": [
    "I will be working independently for this project. Below, I will outline the steps that I will take and be responsible for. \n",
    "##### Data Lifecycle: \n",
    "- Plan and ensure the project follows a data lifecycle (Data collection, cleaning, integration, analysis, visualizations, workflow automation, and documentation) \n",
    "##### Ethical Data Handling: \n",
    "- I will gather the dataset, ensuring reliable access in the future and ensure that it follows legal/ethical sharing guidelines. \n",
    "##### Data Collection and Acquistion \n",
    "- Find 2 datasets from different, trustworthy sources. Ensure each datasets is accessed in a different way (CVS, API Key)\n",
    "##### Storage and Organization: \n",
    "- Design a storage strategy to allow other users to replicate the exploration and analysis I conducted. \n",
    "##### Extraction and Enrichment\n",
    "- Prepare data by ensuring column naming makes sense and transforming data types if necessary (If necessary, I will use a OneHotEncoder to transform categorical variables into numerical variables. ) \n",
    "##### Data Integration: \n",
    "- Integrate 2 datasets and ensure the data is properly mapped. \n",
    "##### Data Quality: \n",
    "- Ensure data is high quality and identify possible problem areas (missing values, incomplete values, etc)\n",
    "##### Data Cleaning:\n",
    "- Apply cleaning methods to data such as imputing, standardizing, duplicates, etc.  \n",
    "##### Workflow Automation and Provenance:\n",
    "- Provide an end-to-end view of the steps taken to achieve the results so far. \n",
    "##### Reproducibility and Transparency: \n",
    "- Outline each step taken to ensure I am being transparent in what I've done and allow for other users to recreate the process I did. \n",
    "##### Metadata and Data Documentation:\n",
    "-  I will ensure to complete all necessary documents, upload them to the correct place (GitHub Repo) and update this plan as I recieve feedback from the course staff. I will also be in charge of delivering the final report including the findings from this project. "
   ]
  },
  {
   "cell_type": "markdown",
   "id": "55baf8ef",
   "metadata": {},
   "source": [
    "## Datasets: Identify and describe the 2 datasets that you will use. If you are looking for ideas for datasets to use, please reach out on CampusWire"
   ]
  },
  {
   "cell_type": "markdown",
   "id": "d6edb3b0",
   "metadata": {},
   "source": []
  },
  {
   "cell_type": "markdown",
   "id": "697db890",
   "metadata": {},
   "source": [
    "## Timeline: Document the plan and timeline for implementing your project including who will complete each task"
   ]
  },
  {
   "cell_type": "markdown",
   "id": "a06fdd30",
   "metadata": {},
   "source": [
    "#### Planning and Dataset Selection\n",
    "- Submit this ipynb by 10/7 \n",
    "#### Data Acquisition and Organization:\n",
    "- Complete by: 10/17\n",
    "- Download data, upload to GitHub, connect API's, document steps taken. \n",
    "- Organize jupyter notebooks, datasets in repository\n",
    "#### Extraction and Enrichment\n",
    "- Complete by: 10/24\n",
    "- transform data types, add in extra metadata if needed\n",
    "#### Data Integration\n",
    "- Complete by: 10/31\n",
    "- Merge datasets, document schema\n",
    "#### Data Cleaning\n",
    "- Complete by: 11/7\n",
    "- Prepare data for data analysis (and possibly machine learning) handle missing values, potentially impute missing values, use encoders for categorical variables. \n",
    "#### Data Analysis and Visualizations\n",
    "- Complete by: 11/21\n",
    "- Perform analysis (or ML), discover trends in data, make predictions using these trends. \n",
    "- Generate visuals that provide valuable insights \n",
    "#### Documentation:\n",
    "- Complete by: 11/28 \n",
    "- Create a data dictionary and detailed documentations of steps taken\n",
    "#### Final Submission and Report:\n",
    "- Complete by 12/5\n",
    "- Compile all artifacts, finalize GitHub repositories, submit to Canvas"
   ]
  },
  {
   "cell_type": "markdown",
   "id": "362134bc",
   "metadata": {},
   "source": [
    "## Constraints: Describe any known constraint"
   ]
  },
  {
   "cell_type": "markdown",
   "metadata": {},
   "source": [
    "- A constraint could potentially be the features have no correlation and no underlying pattern exists. If no patterns exist, the results of this project would not be very influential or useful.   "
   ]
  },
  {
   "cell_type": "markdown",
   "id": "9d6d3849",
   "metadata": {},
   "source": [
    "## Gaps: Identify any known gaps or areas where you need additional input"
   ]
  },
  {
   "cell_type": "markdown",
   "id": "6d9f1b51",
   "metadata": {},
   "source": [
    "- Unsure of which model would be the best to use for this type of problem. Based on my previous class work and experience, I would think to use some type of Linear Regression Model. However, I don't know if this is the strategy I should use in this class.\n"
   ]
  },
  {
   "cell_type": "markdown",
   "id": "0cdcc531",
   "metadata": {},
   "source": []
  }
 ],
 "metadata": {
  "kernelspec": {
   "display_name": "Python 3.10.6 64-bit",
   "language": "python",
   "name": "python3"
  },
  "language_info": {
   "codemirror_mode": {
    "name": "ipython",
    "version": 3
   },
   "file_extension": ".py",
   "mimetype": "text/x-python",
   "name": "python",
   "nbconvert_exporter": "python",
   "pygments_lexer": "ipython3",
   "version": "3.10.6"
  },
  "vscode": {
   "interpreter": {
    "hash": "aee8b7b246df8f9039afb4144a1f6fd8d2ca17a180786b69acc140d282b71a49"
   }
  }
 },
 "nbformat": 4,
 "nbformat_minor": 5
}
